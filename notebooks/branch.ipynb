{
 "cells": [
  {
   "cell_type": "markdown",
   "id": "a12e50a4-7abc-4517-a573-cdfd0658fe6b",
   "metadata": {
    "tags": []
   },
   "source": [
    "Import the `Branch` module."
   ]
  },
  {
   "cell_type": "code",
   "execution_count": 1,
   "id": "fcfb98b0-53d1-4932-82a0-02d4c78a831a",
   "metadata": {
    "tags": []
   },
   "outputs": [],
   "source": [
    "from timeflux.core.branch import Branch"
   ]
  },
  {
   "cell_type": "markdown",
   "id": "9189eb85-7f6d-4835-a0bc-05e0caeec09d",
   "metadata": {
    "tags": []
   },
   "source": [
    "Currently, the `Branch` module simulates an online application and needs a reference timestamp. This will be simplified in future versions."
   ]
  },
  {
   "cell_type": "code",
   "execution_count": 2,
   "id": "a150cbf2-889f-4f27-80b2-64b8d19c51a7",
   "metadata": {
    "tags": []
   },
   "outputs": [],
   "source": [
    "import time\n",
    "from timeflux.core.registry import Registry\n",
    "Registry.cycle_start = time.time()"
   ]
  },
  {
   "cell_type": "markdown",
   "id": "8e617f61-0dc4-4160-808e-e66e18a2cd7d",
   "metadata": {},
   "source": [
    "Define the graph as a Python dictionary. This is a an exact representation of a Timeflux YAML graph."
   ]
  },
  {
   "cell_type": "code",
   "execution_count": 3,
   "id": "43d69c53-a8f6-4d24-9f76-4f5099069453",
   "metadata": {
    "tags": []
   },
   "outputs": [],
   "source": [
    "graph = {\n",
    "    'nodes': [\n",
    "        {\n",
    "            'id': 'node_1',\n",
    "            'module': 'timeflux.nodes.random',\n",
    "            'class': 'Random',\n",
    "            'params': {\n",
    "                'seed': 1,\n",
    "                'rows_min': 3,\n",
    "                'rows_max': 3,\n",
    "                'columns': 4\n",
    "            }\n",
    "        },\n",
    "        {\n",
    "            'id': 'node_2',\n",
    "            'module': 'timeflux_example.nodes.arithmetic',\n",
    "            'class': 'Add',\n",
    "            'params': {\n",
    "                'value': 1\n",
    "            }\n",
    "        },\n",
    "        {\n",
    "            'id': 'node_3',\n",
    "            'module': 'timeflux_example.nodes.arithmetic',\n",
    "            'class': 'Add',\n",
    "            'params': {\n",
    "                'value': 2\n",
    "            }\n",
    "        },        \n",
    "    ],\n",
    "    'edges': [\n",
    "        {\n",
    "            'source': 'node_1',\n",
    "            'target': 'node_2'\n",
    "        },\n",
    "        {\n",
    "            'source': 'node_1',\n",
    "            'target': 'node_3'\n",
    "        }        \n",
    "    ]\n",
    "}"
   ]
  },
  {
   "cell_type": "markdown",
   "id": "f572a258-28b4-4f84-afc2-a0a43e6a0c47",
   "metadata": {},
   "source": [
    "Instantiate and run the branch once."
   ]
  },
  {
   "cell_type": "code",
   "execution_count": 4,
   "id": "ff8dea84-45f8-4716-abff-5c5a154c5f3c",
   "metadata": {
    "tags": []
   },
   "outputs": [],
   "source": [
    "branch = Branch(graph)\n",
    "branch.run()"
   ]
  },
  {
   "cell_type": "markdown",
   "id": "c9448426-66a1-492e-9230-cc0629edb5e4",
   "metadata": {},
   "source": [
    "Inspect the output of the second node."
   ]
  },
  {
   "cell_type": "code",
   "execution_count": 5,
   "id": "e3443b32-eb5d-45c9-b016-95d2d5c7d4eb",
   "metadata": {
    "tags": []
   },
   "outputs": [
    {
     "data": {
      "text/html": [
       "<div>\n",
       "<style scoped>\n",
       "    .dataframe tbody tr th:only-of-type {\n",
       "        vertical-align: middle;\n",
       "    }\n",
       "\n",
       "    .dataframe tbody tr th {\n",
       "        vertical-align: top;\n",
       "    }\n",
       "\n",
       "    .dataframe thead th {\n",
       "        text-align: right;\n",
       "    }\n",
       "</style>\n",
       "<table border=\"1\" class=\"dataframe\">\n",
       "  <thead>\n",
       "    <tr style=\"text-align: right;\">\n",
       "      <th></th>\n",
       "      <th>0</th>\n",
       "      <th>1</th>\n",
       "      <th>2</th>\n",
       "      <th>3</th>\n",
       "    </tr>\n",
       "  </thead>\n",
       "  <tbody>\n",
       "    <tr>\n",
       "      <th>2023-08-16 15:32:33.969455</th>\n",
       "      <td>6</td>\n",
       "      <td>9</td>\n",
       "      <td>10</td>\n",
       "      <td>6</td>\n",
       "    </tr>\n",
       "    <tr>\n",
       "      <th>2023-08-16 15:32:34.302788</th>\n",
       "      <td>1</td>\n",
       "      <td>1</td>\n",
       "      <td>2</td>\n",
       "      <td>8</td>\n",
       "    </tr>\n",
       "    <tr>\n",
       "      <th>2023-08-16 15:32:34.636121</th>\n",
       "      <td>7</td>\n",
       "      <td>10</td>\n",
       "      <td>3</td>\n",
       "      <td>5</td>\n",
       "    </tr>\n",
       "  </tbody>\n",
       "</table>\n",
       "</div>"
      ],
      "text/plain": [
       "                            0   1   2  3\n",
       "2023-08-16 15:32:33.969455  6   9  10  6\n",
       "2023-08-16 15:32:34.302788  1   1   2  8\n",
       "2023-08-16 15:32:34.636121  7  10   3  5"
      ]
     },
     "execution_count": 5,
     "metadata": {},
     "output_type": "execute_result"
    }
   ],
   "source": [
    "branch.get_port('node_2', 'o').data"
   ]
  },
  {
   "cell_type": "markdown",
   "id": "a36c9234-b6d9-47eb-bdb9-fb56e1082b03",
   "metadata": {},
   "source": [
    "Inspect the output of the first node. Notice that the values are exactly the same as the second node. This is because Timeflux creates a deep copy of objects only when absolutely required."
   ]
  },
  {
   "cell_type": "code",
   "execution_count": 6,
   "id": "4a2c37b1-1c85-46f1-9d57-7cfa4eb617e2",
   "metadata": {
    "tags": []
   },
   "outputs": [
    {
     "data": {
      "text/html": [
       "<div>\n",
       "<style scoped>\n",
       "    .dataframe tbody tr th:only-of-type {\n",
       "        vertical-align: middle;\n",
       "    }\n",
       "\n",
       "    .dataframe tbody tr th {\n",
       "        vertical-align: top;\n",
       "    }\n",
       "\n",
       "    .dataframe thead th {\n",
       "        text-align: right;\n",
       "    }\n",
       "</style>\n",
       "<table border=\"1\" class=\"dataframe\">\n",
       "  <thead>\n",
       "    <tr style=\"text-align: right;\">\n",
       "      <th></th>\n",
       "      <th>0</th>\n",
       "      <th>1</th>\n",
       "      <th>2</th>\n",
       "      <th>3</th>\n",
       "    </tr>\n",
       "  </thead>\n",
       "  <tbody>\n",
       "    <tr>\n",
       "      <th>2023-08-16 15:32:33.969455</th>\n",
       "      <td>6</td>\n",
       "      <td>9</td>\n",
       "      <td>10</td>\n",
       "      <td>6</td>\n",
       "    </tr>\n",
       "    <tr>\n",
       "      <th>2023-08-16 15:32:34.302788</th>\n",
       "      <td>1</td>\n",
       "      <td>1</td>\n",
       "      <td>2</td>\n",
       "      <td>8</td>\n",
       "    </tr>\n",
       "    <tr>\n",
       "      <th>2023-08-16 15:32:34.636121</th>\n",
       "      <td>7</td>\n",
       "      <td>10</td>\n",
       "      <td>3</td>\n",
       "      <td>5</td>\n",
       "    </tr>\n",
       "  </tbody>\n",
       "</table>\n",
       "</div>"
      ],
      "text/plain": [
       "                            0   1   2  3\n",
       "2023-08-16 15:32:33.969455  6   9  10  6\n",
       "2023-08-16 15:32:34.302788  1   1   2  8\n",
       "2023-08-16 15:32:34.636121  7  10   3  5"
      ]
     },
     "execution_count": 6,
     "metadata": {},
     "output_type": "execute_result"
    }
   ],
   "source": [
    "branch.get_port('node_1', 'o').data"
   ]
  },
  {
   "cell_type": "markdown",
   "id": "9ac33924-ef85-4e73-a5a1-ccb20e27b84e",
   "metadata": {},
   "source": [
    "This can be confirmed by checking the IDs of objects."
   ]
  },
  {
   "cell_type": "code",
   "execution_count": 7,
   "id": "9dc3da96-6ff8-4094-99f2-b8a8c2f312a7",
   "metadata": {
    "tags": []
   },
   "outputs": [
    {
     "name": "stdout",
     "output_type": "stream",
     "text": [
      "4936981696\n",
      "4936981696\n"
     ]
    }
   ],
   "source": [
    "print(id(branch.get_port('node_1', 'o').data))\n",
    "print(id(branch.get_port('node_2', 'o').data))"
   ]
  },
  {
   "cell_type": "markdown",
   "id": "8d87f48d-b4ac-42bb-8756-0a67e415ad26",
   "metadata": {},
   "source": [
    "But when there is a fork in the graph, the data is actually copied, and we can confirm that everything is working well :)"
   ]
  },
  {
   "cell_type": "code",
   "execution_count": 8,
   "id": "5c8e1c65-9405-4d72-9d1a-0c08cd635ace",
   "metadata": {
    "tags": []
   },
   "outputs": [
    {
     "data": {
      "text/html": [
       "<div>\n",
       "<style scoped>\n",
       "    .dataframe tbody tr th:only-of-type {\n",
       "        vertical-align: middle;\n",
       "    }\n",
       "\n",
       "    .dataframe tbody tr th {\n",
       "        vertical-align: top;\n",
       "    }\n",
       "\n",
       "    .dataframe thead th {\n",
       "        text-align: right;\n",
       "    }\n",
       "</style>\n",
       "<table border=\"1\" class=\"dataframe\">\n",
       "  <thead>\n",
       "    <tr style=\"text-align: right;\">\n",
       "      <th></th>\n",
       "      <th>0</th>\n",
       "      <th>1</th>\n",
       "      <th>2</th>\n",
       "      <th>3</th>\n",
       "    </tr>\n",
       "  </thead>\n",
       "  <tbody>\n",
       "    <tr>\n",
       "      <th>2023-08-16 15:32:33.969455</th>\n",
       "      <td>7</td>\n",
       "      <td>10</td>\n",
       "      <td>11</td>\n",
       "      <td>7</td>\n",
       "    </tr>\n",
       "    <tr>\n",
       "      <th>2023-08-16 15:32:34.302788</th>\n",
       "      <td>2</td>\n",
       "      <td>2</td>\n",
       "      <td>3</td>\n",
       "      <td>9</td>\n",
       "    </tr>\n",
       "    <tr>\n",
       "      <th>2023-08-16 15:32:34.636121</th>\n",
       "      <td>8</td>\n",
       "      <td>11</td>\n",
       "      <td>4</td>\n",
       "      <td>6</td>\n",
       "    </tr>\n",
       "  </tbody>\n",
       "</table>\n",
       "</div>"
      ],
      "text/plain": [
       "                            0   1   2  3\n",
       "2023-08-16 15:32:33.969455  7  10  11  7\n",
       "2023-08-16 15:32:34.302788  2   2   3  9\n",
       "2023-08-16 15:32:34.636121  8  11   4  6"
      ]
     },
     "execution_count": 8,
     "metadata": {},
     "output_type": "execute_result"
    }
   ],
   "source": [
    "branch.get_port('node_3', 'o').data"
   ]
  },
  {
   "cell_type": "code",
   "execution_count": 9,
   "id": "eb25b2f9-1d35-4309-be08-6bb81dd61ad9",
   "metadata": {
    "tags": []
   },
   "outputs": [
    {
     "name": "stdout",
     "output_type": "stream",
     "text": [
      "4936980832\n"
     ]
    }
   ],
   "source": [
    "print(id(branch.get_port('node_3', 'o').data))"
   ]
  }
 ],
 "metadata": {
  "kernelspec": {
   "display_name": "Python 3 (ipykernel)",
   "language": "python",
   "name": "python3"
  },
  "language_info": {
   "codemirror_mode": {
    "name": "ipython",
    "version": 3
   },
   "file_extension": ".py",
   "mimetype": "text/x-python",
   "name": "python",
   "nbconvert_exporter": "python",
   "pygments_lexer": "ipython3",
   "version": "3.10.12"
  }
 },
 "nbformat": 4,
 "nbformat_minor": 5
}
